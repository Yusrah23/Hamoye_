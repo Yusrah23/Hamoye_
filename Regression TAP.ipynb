{
 "cells": [
  {
   "cell_type": "code",
   "execution_count": 1,
   "id": "3f4671d0",
   "metadata": {},
   "outputs": [],
   "source": [
    "import pandas as pd\n",
    "import numpy as np \n",
    "import seaborn as sns"
   ]
  },
  {
   "cell_type": "code",
   "execution_count": 2,
   "id": "3bde7418",
   "metadata": {},
   "outputs": [],
   "source": [
    "from  sklearn.preprocessing  import  MinMaxScaler \n",
    "from  sklearn.model_selection  import  train_test_split \n",
    "from  sklearn.metrics  import  mean_absolute_error \n",
    "from  sklearn.linear_model  import  Ridge\n",
    "from  sklearn.linear_model  import  Lasso\n",
    "from sklearn.linear_model import LinearRegression\n",
    "from  sklearn.metrics  import   mean_squared_error \n",
    "from  sklearn.metrics  import  mean_absolute_error "
   ]
  },
  {
   "cell_type": "code",
   "execution_count": 3,
   "id": "8eff23fc",
   "metadata": {},
   "outputs": [],
   "source": [
    "energy_df = pd.read_csv('energydata_complete.csv')"
   ]
  },
  {
   "cell_type": "code",
   "execution_count": 4,
   "id": "97aeccd1",
   "metadata": {},
   "outputs": [
    {
     "data": {
      "text/html": [
       "<div>\n",
       "<style scoped>\n",
       "    .dataframe tbody tr th:only-of-type {\n",
       "        vertical-align: middle;\n",
       "    }\n",
       "\n",
       "    .dataframe tbody tr th {\n",
       "        vertical-align: top;\n",
       "    }\n",
       "\n",
       "    .dataframe thead th {\n",
       "        text-align: right;\n",
       "    }\n",
       "</style>\n",
       "<table border=\"1\" class=\"dataframe\">\n",
       "  <thead>\n",
       "    <tr style=\"text-align: right;\">\n",
       "      <th></th>\n",
       "      <th>date</th>\n",
       "      <th>Appliances</th>\n",
       "      <th>lights</th>\n",
       "      <th>T1</th>\n",
       "      <th>RH_1</th>\n",
       "      <th>T2</th>\n",
       "      <th>RH_2</th>\n",
       "      <th>T3</th>\n",
       "      <th>RH_3</th>\n",
       "      <th>T4</th>\n",
       "      <th>...</th>\n",
       "      <th>T9</th>\n",
       "      <th>RH_9</th>\n",
       "      <th>T_out</th>\n",
       "      <th>Press_mm_hg</th>\n",
       "      <th>RH_out</th>\n",
       "      <th>Windspeed</th>\n",
       "      <th>Visibility</th>\n",
       "      <th>Tdewpoint</th>\n",
       "      <th>rv1</th>\n",
       "      <th>rv2</th>\n",
       "    </tr>\n",
       "  </thead>\n",
       "  <tbody>\n",
       "    <tr>\n",
       "      <th>0</th>\n",
       "      <td>2016-01-11 17:00:00</td>\n",
       "      <td>60</td>\n",
       "      <td>30</td>\n",
       "      <td>19.89</td>\n",
       "      <td>47.596667</td>\n",
       "      <td>19.2</td>\n",
       "      <td>44.790000</td>\n",
       "      <td>19.79</td>\n",
       "      <td>44.730000</td>\n",
       "      <td>19.000000</td>\n",
       "      <td>...</td>\n",
       "      <td>17.033333</td>\n",
       "      <td>45.53</td>\n",
       "      <td>6.600000</td>\n",
       "      <td>733.5</td>\n",
       "      <td>92.0</td>\n",
       "      <td>7.000000</td>\n",
       "      <td>63.000000</td>\n",
       "      <td>5.3</td>\n",
       "      <td>13.275433</td>\n",
       "      <td>13.275433</td>\n",
       "    </tr>\n",
       "    <tr>\n",
       "      <th>1</th>\n",
       "      <td>2016-01-11 17:10:00</td>\n",
       "      <td>60</td>\n",
       "      <td>30</td>\n",
       "      <td>19.89</td>\n",
       "      <td>46.693333</td>\n",
       "      <td>19.2</td>\n",
       "      <td>44.722500</td>\n",
       "      <td>19.79</td>\n",
       "      <td>44.790000</td>\n",
       "      <td>19.000000</td>\n",
       "      <td>...</td>\n",
       "      <td>17.066667</td>\n",
       "      <td>45.56</td>\n",
       "      <td>6.483333</td>\n",
       "      <td>733.6</td>\n",
       "      <td>92.0</td>\n",
       "      <td>6.666667</td>\n",
       "      <td>59.166667</td>\n",
       "      <td>5.2</td>\n",
       "      <td>18.606195</td>\n",
       "      <td>18.606195</td>\n",
       "    </tr>\n",
       "    <tr>\n",
       "      <th>2</th>\n",
       "      <td>2016-01-11 17:20:00</td>\n",
       "      <td>50</td>\n",
       "      <td>30</td>\n",
       "      <td>19.89</td>\n",
       "      <td>46.300000</td>\n",
       "      <td>19.2</td>\n",
       "      <td>44.626667</td>\n",
       "      <td>19.79</td>\n",
       "      <td>44.933333</td>\n",
       "      <td>18.926667</td>\n",
       "      <td>...</td>\n",
       "      <td>17.000000</td>\n",
       "      <td>45.50</td>\n",
       "      <td>6.366667</td>\n",
       "      <td>733.7</td>\n",
       "      <td>92.0</td>\n",
       "      <td>6.333333</td>\n",
       "      <td>55.333333</td>\n",
       "      <td>5.1</td>\n",
       "      <td>28.642668</td>\n",
       "      <td>28.642668</td>\n",
       "    </tr>\n",
       "    <tr>\n",
       "      <th>3</th>\n",
       "      <td>2016-01-11 17:30:00</td>\n",
       "      <td>50</td>\n",
       "      <td>40</td>\n",
       "      <td>19.89</td>\n",
       "      <td>46.066667</td>\n",
       "      <td>19.2</td>\n",
       "      <td>44.590000</td>\n",
       "      <td>19.79</td>\n",
       "      <td>45.000000</td>\n",
       "      <td>18.890000</td>\n",
       "      <td>...</td>\n",
       "      <td>17.000000</td>\n",
       "      <td>45.40</td>\n",
       "      <td>6.250000</td>\n",
       "      <td>733.8</td>\n",
       "      <td>92.0</td>\n",
       "      <td>6.000000</td>\n",
       "      <td>51.500000</td>\n",
       "      <td>5.0</td>\n",
       "      <td>45.410389</td>\n",
       "      <td>45.410389</td>\n",
       "    </tr>\n",
       "    <tr>\n",
       "      <th>4</th>\n",
       "      <td>2016-01-11 17:40:00</td>\n",
       "      <td>60</td>\n",
       "      <td>40</td>\n",
       "      <td>19.89</td>\n",
       "      <td>46.333333</td>\n",
       "      <td>19.2</td>\n",
       "      <td>44.530000</td>\n",
       "      <td>19.79</td>\n",
       "      <td>45.000000</td>\n",
       "      <td>18.890000</td>\n",
       "      <td>...</td>\n",
       "      <td>17.000000</td>\n",
       "      <td>45.40</td>\n",
       "      <td>6.133333</td>\n",
       "      <td>733.9</td>\n",
       "      <td>92.0</td>\n",
       "      <td>5.666667</td>\n",
       "      <td>47.666667</td>\n",
       "      <td>4.9</td>\n",
       "      <td>10.084097</td>\n",
       "      <td>10.084097</td>\n",
       "    </tr>\n",
       "  </tbody>\n",
       "</table>\n",
       "<p>5 rows × 29 columns</p>\n",
       "</div>"
      ],
      "text/plain": [
       "                  date  Appliances  lights     T1       RH_1    T2       RH_2  \\\n",
       "0  2016-01-11 17:00:00          60      30  19.89  47.596667  19.2  44.790000   \n",
       "1  2016-01-11 17:10:00          60      30  19.89  46.693333  19.2  44.722500   \n",
       "2  2016-01-11 17:20:00          50      30  19.89  46.300000  19.2  44.626667   \n",
       "3  2016-01-11 17:30:00          50      40  19.89  46.066667  19.2  44.590000   \n",
       "4  2016-01-11 17:40:00          60      40  19.89  46.333333  19.2  44.530000   \n",
       "\n",
       "      T3       RH_3         T4  ...         T9   RH_9     T_out  Press_mm_hg  \\\n",
       "0  19.79  44.730000  19.000000  ...  17.033333  45.53  6.600000        733.5   \n",
       "1  19.79  44.790000  19.000000  ...  17.066667  45.56  6.483333        733.6   \n",
       "2  19.79  44.933333  18.926667  ...  17.000000  45.50  6.366667        733.7   \n",
       "3  19.79  45.000000  18.890000  ...  17.000000  45.40  6.250000        733.8   \n",
       "4  19.79  45.000000  18.890000  ...  17.000000  45.40  6.133333        733.9   \n",
       "\n",
       "   RH_out  Windspeed  Visibility  Tdewpoint        rv1        rv2  \n",
       "0    92.0   7.000000   63.000000        5.3  13.275433  13.275433  \n",
       "1    92.0   6.666667   59.166667        5.2  18.606195  18.606195  \n",
       "2    92.0   6.333333   55.333333        5.1  28.642668  28.642668  \n",
       "3    92.0   6.000000   51.500000        5.0  45.410389  45.410389  \n",
       "4    92.0   5.666667   47.666667        4.9  10.084097  10.084097  \n",
       "\n",
       "[5 rows x 29 columns]"
      ]
     },
     "execution_count": 4,
     "metadata": {},
     "output_type": "execute_result"
    }
   ],
   "source": [
    "energy_df.head()"
   ]
  },
  {
   "cell_type": "markdown",
   "id": "be19c5c7",
   "metadata": {},
   "source": [
    "1.) From the dataset, fit a linear model on the relationship between the temperature in the living room in Celsius (x = T2) and the temperature outside the building (y = T6). What is the Root Mean Squared error in three D.P?"
   ]
  },
  {
   "cell_type": "code",
   "execution_count": 5,
   "id": "60954a56",
   "metadata": {},
   "outputs": [],
   "source": [
    "X  =  energy_df[['T2']]\n",
    "y  =  energy_df[ 'T6' ]"
   ]
  },
  {
   "cell_type": "code",
   "execution_count": 6,
   "id": "3670fab8",
   "metadata": {},
   "outputs": [],
   "source": [
    "x_train,  x_test,  y_train,  y_test  =  train_test_split(X,  y, \n",
    "test_size= 0.3 ,  random_state= 1 )"
   ]
  },
  {
   "cell_type": "code",
   "execution_count": 7,
   "id": "34735cc4",
   "metadata": {},
   "outputs": [],
   "source": [
    "linear_model  =  LinearRegression() \n",
    "#fit  the  model  to  the  training  dataset \n",
    "linear_model.fit(x_train,  y_train) \n",
    "#obtain  predictions \n",
    "predicted_values  =  linear_model.predict(x_test) "
   ]
  },
  {
   "cell_type": "code",
   "execution_count": 8,
   "id": "c903a63d",
   "metadata": {},
   "outputs": [
    {
     "data": {
      "text/plain": [
       "3.612"
      ]
     },
     "execution_count": 8,
     "metadata": {},
     "output_type": "execute_result"
    }
   ],
   "source": [
    "rmse  =  np.sqrt(mean_squared_error(y_test,  predicted_values)) \n",
    "round(rmse,  3 ) "
   ]
  },
  {
   "cell_type": "markdown",
   "id": "829707e3",
   "metadata": {},
   "source": [
    "2.)Remove the following columns: [“date”, “lights”]. The target variable is “Appliances”. Use a 70-30 train-test set split with a random state of 42 (for reproducibility). Normalize the dataset using the MinMaxScaler (Hint: Use the MinMaxScaler fit_transform and transform methods on the train and test set respectively). Run a multiple linear regression using the training set. Answer the following questions:\n",
    "\n",
    "What is the Mean Absolute Error (in three decimal places) for the training set?"
   ]
  },
  {
   "cell_type": "code",
   "execution_count": 9,
   "id": "475e68cb",
   "metadata": {},
   "outputs": [],
   "source": [
    "# Remove the specified columns\n",
    "columns_to_remove = [\"date\", \"lights\"]\n",
    "data = energy_df.drop(columns=columns_to_remove)"
   ]
  },
  {
   "cell_type": "code",
   "execution_count": null,
   "id": "ee256961",
   "metadata": {},
   "outputs": [],
   "source": [
    "# Define your target variable and features\n",
    "X = data.drop(columns=[\"Appliances\"])\n",
    "y = data[\"Appliances\"]"
   ]
  },
  {
   "cell_type": "code",
   "execution_count": null,
   "id": "8628a431",
   "metadata": {},
   "outputs": [],
   "source": [
    "x_train,  x_test,  y_train,  y_test  =  train_test_split(X,  y, \n",
    "test_size= 0.3 ,  random_state= 42 )"
   ]
  },
  {
   "cell_type": "code",
   "execution_count": null,
   "id": "d8c250ca",
   "metadata": {},
   "outputs": [],
   "source": [
    "scaler  =  MinMaxScaler() \n",
    "X_train  = scaler.fit_transform(x_train)\n",
    "X_test  =  scaler.fit_transform(x_test)"
   ]
  },
  {
   "cell_type": "code",
   "execution_count": null,
   "id": "cfeca7a1",
   "metadata": {},
   "outputs": [],
   "source": [
    "linear_model  =  LinearRegression() \n",
    "#fit  the  model  to  the  training  dataset \n",
    "linear_model.fit(X_train,  y_train) \n"
   ]
  },
  {
   "cell_type": "code",
   "execution_count": null,
   "id": "0171d24d",
   "metadata": {},
   "outputs": [],
   "source": [
    "y_train_pred = linear_model.predict(X_train)\n",
    "# Calculate Mean Absolute Error for the training set\n",
    "mae_train = mean_absolute_error(y_train, y_train_pred)\n",
    "round(mae_train, 3)"
   ]
  },
  {
   "cell_type": "markdown",
   "id": "66740f7a",
   "metadata": {},
   "source": [
    "3.)What is the Root Mean Squared Error (in three decimal places) for the training set?"
   ]
  },
  {
   "cell_type": "code",
   "execution_count": null,
   "id": "08bff28a",
   "metadata": {},
   "outputs": [],
   "source": [
    "rmse  =  np.sqrt(mean_squared_error(y_train,  y_train_pred)) \n",
    "round(rmse,  3 ) "
   ]
  },
  {
   "cell_type": "markdown",
   "id": "eb372e2a",
   "metadata": {},
   "source": [
    "4.) What is the Root Mean Squared Error (in three decimal places) for test set?"
   ]
  },
  {
   "cell_type": "code",
   "execution_count": null,
   "id": "19c95297",
   "metadata": {},
   "outputs": [],
   "source": [
    "#obtain test predictions \n",
    "predicted_values  =  linear_model.predict(X_test)\n",
    "rmse  =  np.sqrt(mean_squared_error(y_test,  predicted_values ))\n",
    "round(rmse,  3 ) "
   ]
  },
  {
   "cell_type": "markdown",
   "id": "9e1c74ff",
   "metadata": {},
   "source": [
    "5.) What is the new RMSE with the Lasso Regression on the test set?"
   ]
  },
  {
   "cell_type": "code",
   "execution_count": null,
   "id": "9ad5c43a",
   "metadata": {},
   "outputs": [],
   "source": [
    "lasso_reg  =  Lasso(alpha= 0.001 ) \n",
    "lasso_reg.fit(X_train,  y_train)\n",
    "predicted_values  =  lasso_reg.predict(X_test) "
   ]
  },
  {
   "cell_type": "code",
   "execution_count": null,
   "id": "e900fcb2",
   "metadata": {},
   "outputs": [],
   "source": [
    "rmse  =  np.sqrt(mean_squared_error(y_test,  predicted_values)) \n",
    "round(rmse,  3 ) "
   ]
  },
  {
   "cell_type": "code",
   "execution_count": null,
   "id": "570f93eb",
   "metadata": {},
   "outputs": [],
   "source": []
  }
 ],
 "metadata": {
  "kernelspec": {
   "display_name": "Python 3 (ipykernel)",
   "language": "python",
   "name": "python3"
  },
  "language_info": {
   "codemirror_mode": {
    "name": "ipython",
    "version": 3
   },
   "file_extension": ".py",
   "mimetype": "text/x-python",
   "name": "python",
   "nbconvert_exporter": "python",
   "pygments_lexer": "ipython3",
   "version": "3.9.12"
  }
 },
 "nbformat": 4,
 "nbformat_minor": 5
}
